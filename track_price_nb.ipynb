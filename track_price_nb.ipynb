{
 "cells": [
  {
   "cell_type": "code",
   "execution_count": 1,
   "metadata": {},
   "outputs": [],
   "source": [
    "import smtplib\n",
    "import pandas as pd\n",
    "import requests\n",
    "from bs4 import BeautifulSoup\n",
    "from price_parser import Price"
   ]
  },
  {
   "cell_type": "code",
   "execution_count": 2,
   "metadata": {},
   "outputs": [],
   "source": [
    "PRODUCT_URL_CSV = \"products.csv\"\n",
    "SAVE_TO_CSV = True\n",
    "PRICES_CSV = \"prices.csv\"\n",
    "SEND_MAIL = True"
   ]
  },
  {
   "cell_type": "code",
   "execution_count": 45,
   "metadata": {},
   "outputs": [],
   "source": [
    "def get_response(url):\n",
    "\tresponse = requests.get(url)\n",
    "\treturn response.text\n",
    "\n",
    "def get_price(html):\n",
    "\tsoup = BeautifulSoup(html, \"lxml\")\n",
    "\tel = soup.find(property=\"product:price:amount\")\n",
    "\telm = el[\"content\"]\n",
    "\tprice = float(elm)\n",
    "\treturn price\n",
    "\n",
    "def process_products(df):\n",
    "    updated_products = []\n",
    "    for product in df.to_dict(\"records\"):\n",
    "        html = get_response(product[\"url\"])\n",
    "        product[\"price\"] = get_price(html)\n",
    "        product[\"alert\"] = product[\"price\"] < product[\"alert_price\"]\n",
    "        updated_products.append(product)\n",
    "    return pd.DataFrame(updated_products)"
   ]
  },
  {
   "cell_type": "code",
   "execution_count": 46,
   "metadata": {},
   "outputs": [
    {
     "data": {
      "text/plain": [
       "285.0"
      ]
     },
     "execution_count": 46,
     "metadata": {},
     "output_type": "execute_result"
    }
   ],
   "source": [
    "gg_enlighten= get_response(\"https://www.garagegrowngear.com/collections/gear/products/revelation-850fp-by-enlightened-equipment?variant=38072057004219\")\n",
    "enlighten_price = get_price(gg_enlighten)\n",
    "enlighten_price"
   ]
  },
  {
   "cell_type": "code",
   "execution_count": null,
   "metadata": {},
   "outputs": [],
   "source": []
  }
 ],
 "metadata": {
  "kernelspec": {
   "display_name": "Python 3",
   "language": "python",
   "name": "python3"
  },
  "language_info": {
   "codemirror_mode": {
    "name": "ipython",
    "version": 3
   },
   "file_extension": ".py",
   "mimetype": "text/x-python",
   "name": "python",
   "nbconvert_exporter": "python",
   "pygments_lexer": "ipython3",
   "version": "3.10.9"
  }
 },
 "nbformat": 4,
 "nbformat_minor": 2
}
